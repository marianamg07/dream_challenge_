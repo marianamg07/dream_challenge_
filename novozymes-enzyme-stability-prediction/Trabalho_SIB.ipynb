{
 "cells": [
  {
   "cell_type": "markdown",
   "metadata": {
    "collapsed": true,
    "pycharm": {
     "name": "#%% md\n"
    }
   },
   "source": [
    "# TRABALHO SIB"
   ]
  },
  {
   "cell_type": "markdown",
   "source": [
    "## Secção 1"
   ],
   "metadata": {
    "collapsed": false,
    "pycharm": {
     "name": "#%% md\n"
    }
   }
  },
  {
   "cell_type": "markdown",
   "source": [
    "### Exploração inicial e pré-processamento\n",
    "• Rever toda a documentação disponível sobre o conjunto de dados.\n",
    "• Carregar o conjunto de dados e realizar uma análise exploratória do mesmo.\n",
    "• Realizar os passos necessários de preparação dos dados e pré-processamento,\n",
    "incluindo possivelmente a geração de atributos, a sua seleção, o tratamento de\n",
    "possíveis valores em falta, etc.\n",
    "\n",
    "Esta etapa deve corresponder à secção 1 do Notebook onde deverá:\n",
    "• descrever e caracterizar os dados atribuídos de acordo com a documentação/\n",
    "literatura existente;\n",
    "• descrever sucintamente as características dos dados disponíveis a partir da\n",
    "análise exploratória inicial;\n",
    "• descrever os passos de preparação dos dados e pré-processamento que efetuou,\n",
    "justificando as suas escolhas;\n",
    "• incluir os gráficos exploratórios iniciais que ilustrem as principais características\n",
    "dos dados."
   ],
   "metadata": {
    "collapsed": false,
    "pycharm": {
     "name": "#%% md\n"
    }
   }
  },
  {
   "cell_type": "code",
   "execution_count": 130,
   "outputs": [],
   "source": [
    "import numpy as np\n",
    "import pandas as pd\n",
    "import matplotlib.pyplot as plt\n",
    "# para desenhar os gráficos dentro do notebook\n",
    "import seaborn as sns\n",
    "import xgboost as xgb\n",
    "from html5lib._trie import py\n",
    "from pygments.lexers import go\n",
    "from sklearn.model_selection import train_test_split\n",
    "from sklearn.metrics import mean_absolute_error\n",
    "from scipy.stats import spearmanr\n",
    "%matplotlib inline\n"
   ],
   "metadata": {
    "collapsed": false,
    "pycharm": {
     "name": "#%%\n"
    }
   }
  },
  {
   "cell_type": "markdown",
   "source": [
    "• seq_id: unique identifier of each protein variants\n",
    "• protein_sequence: amino acid sequence of each protein variant. The stability (as measured by tm) of protein is determined by its protein sequence. (Please note that most of the sequences in the test data have the same length of 221 amino acids, but some of them have 220 because of amino acid deletion.)\n",
    "• pH: the scale used to specify the acidity of an aqueous solution under which the stability of protein was measured. Stability of the same protein can change at different pH levels.\n",
    "• data_source: source where the data was published\n",
    "• tm: target column. (Higher tm means the protein variant is more stable.)"
   ],
   "metadata": {
    "collapsed": false,
    "pycharm": {
     "name": "#%% md\n"
    }
   }
  },
  {
   "cell_type": "code",
   "execution_count": 101,
   "outputs": [
    {
     "data": {
      "text/plain": "       seq_id                                   protein_sequence   pH  \\\n0           0  AAAAKAAALALLGEAPEVVDIWLPAGWRQPFRVFRLERKGDGVLVG...  7.0   \n1           1  AAADGEPLHNEEERAGAGQVGRSLPQESEEQRTGSRPRRRRDLGSR...  7.0   \n2           2  AAAFSTPRATSYRILSSAGSGSTRADAPQVRRLHTTRDLLAKDYYA...  7.0   \n3           3  AAASGLRTAIPAQPLRHLLQPAPRPCLRPFGLLSVRAGSARRSGLL...  7.0   \n4           4  AAATKSGPRRQSQGASVRTFTPFYFLVEPVDTLSVRGSSVILNCSA...  7.0   \n...       ...                                                ...  ...   \n31385   31385  YYMYSGGGSALAAGGGGAGRKGDWNDIDSIKKKDLHHSRGDEKAQG...  7.0   \n31386   31386  YYNDQHRLSSYSVETAMFLSWERAIVKPGAMFKKAVIGFNCNVDLI...  7.0   \n31387   31387  YYQRTLGAELLYKISFGEMPKSAQDSAENCPSGMQFPDTAIAHANV...  7.0   \n31388   31388  YYSFSDNITTVFLSRQAIDDDHSLSLGTISDVVESENGVVAADDAR...  7.0   \n31389   31389  YYVPDEYWQSLEVAHKLTFGYGYLTWEWVQGIRSYVYPLLIAGLYK...  7.0   \n\n                             data_source    tm  \n0      doi.org/10.1038/s41592-020-0801-4  75.7  \n1      doi.org/10.1038/s41592-020-0801-4  50.5  \n2      doi.org/10.1038/s41592-020-0801-4  40.5  \n3      doi.org/10.1038/s41592-020-0801-4  47.2  \n4      doi.org/10.1038/s41592-020-0801-4  49.5  \n...                                  ...   ...  \n31385  doi.org/10.1038/s41592-020-0801-4  51.8  \n31386  doi.org/10.1038/s41592-020-0801-4  37.2  \n31387  doi.org/10.1038/s41592-020-0801-4  64.6  \n31388  doi.org/10.1038/s41592-020-0801-4  50.7  \n31389  doi.org/10.1038/s41592-020-0801-4  37.6  \n\n[31390 rows x 5 columns]",
      "text/html": "<div>\n<style scoped>\n    .dataframe tbody tr th:only-of-type {\n        vertical-align: middle;\n    }\n\n    .dataframe tbody tr th {\n        vertical-align: top;\n    }\n\n    .dataframe thead th {\n        text-align: right;\n    }\n</style>\n<table border=\"1\" class=\"dataframe\">\n  <thead>\n    <tr style=\"text-align: right;\">\n      <th></th>\n      <th>seq_id</th>\n      <th>protein_sequence</th>\n      <th>pH</th>\n      <th>data_source</th>\n      <th>tm</th>\n    </tr>\n  </thead>\n  <tbody>\n    <tr>\n      <th>0</th>\n      <td>0</td>\n      <td>AAAAKAAALALLGEAPEVVDIWLPAGWRQPFRVFRLERKGDGVLVG...</td>\n      <td>7.0</td>\n      <td>doi.org/10.1038/s41592-020-0801-4</td>\n      <td>75.7</td>\n    </tr>\n    <tr>\n      <th>1</th>\n      <td>1</td>\n      <td>AAADGEPLHNEEERAGAGQVGRSLPQESEEQRTGSRPRRRRDLGSR...</td>\n      <td>7.0</td>\n      <td>doi.org/10.1038/s41592-020-0801-4</td>\n      <td>50.5</td>\n    </tr>\n    <tr>\n      <th>2</th>\n      <td>2</td>\n      <td>AAAFSTPRATSYRILSSAGSGSTRADAPQVRRLHTTRDLLAKDYYA...</td>\n      <td>7.0</td>\n      <td>doi.org/10.1038/s41592-020-0801-4</td>\n      <td>40.5</td>\n    </tr>\n    <tr>\n      <th>3</th>\n      <td>3</td>\n      <td>AAASGLRTAIPAQPLRHLLQPAPRPCLRPFGLLSVRAGSARRSGLL...</td>\n      <td>7.0</td>\n      <td>doi.org/10.1038/s41592-020-0801-4</td>\n      <td>47.2</td>\n    </tr>\n    <tr>\n      <th>4</th>\n      <td>4</td>\n      <td>AAATKSGPRRQSQGASVRTFTPFYFLVEPVDTLSVRGSSVILNCSA...</td>\n      <td>7.0</td>\n      <td>doi.org/10.1038/s41592-020-0801-4</td>\n      <td>49.5</td>\n    </tr>\n    <tr>\n      <th>...</th>\n      <td>...</td>\n      <td>...</td>\n      <td>...</td>\n      <td>...</td>\n      <td>...</td>\n    </tr>\n    <tr>\n      <th>31385</th>\n      <td>31385</td>\n      <td>YYMYSGGGSALAAGGGGAGRKGDWNDIDSIKKKDLHHSRGDEKAQG...</td>\n      <td>7.0</td>\n      <td>doi.org/10.1038/s41592-020-0801-4</td>\n      <td>51.8</td>\n    </tr>\n    <tr>\n      <th>31386</th>\n      <td>31386</td>\n      <td>YYNDQHRLSSYSVETAMFLSWERAIVKPGAMFKKAVIGFNCNVDLI...</td>\n      <td>7.0</td>\n      <td>doi.org/10.1038/s41592-020-0801-4</td>\n      <td>37.2</td>\n    </tr>\n    <tr>\n      <th>31387</th>\n      <td>31387</td>\n      <td>YYQRTLGAELLYKISFGEMPKSAQDSAENCPSGMQFPDTAIAHANV...</td>\n      <td>7.0</td>\n      <td>doi.org/10.1038/s41592-020-0801-4</td>\n      <td>64.6</td>\n    </tr>\n    <tr>\n      <th>31388</th>\n      <td>31388</td>\n      <td>YYSFSDNITTVFLSRQAIDDDHSLSLGTISDVVESENGVVAADDAR...</td>\n      <td>7.0</td>\n      <td>doi.org/10.1038/s41592-020-0801-4</td>\n      <td>50.7</td>\n    </tr>\n    <tr>\n      <th>31389</th>\n      <td>31389</td>\n      <td>YYVPDEYWQSLEVAHKLTFGYGYLTWEWVQGIRSYVYPLLIAGLYK...</td>\n      <td>7.0</td>\n      <td>doi.org/10.1038/s41592-020-0801-4</td>\n      <td>37.6</td>\n    </tr>\n  </tbody>\n</table>\n<p>31390 rows × 5 columns</p>\n</div>"
     },
     "execution_count": 101,
     "metadata": {},
     "output_type": "execute_result"
    }
   ],
   "source": [
    "#read the csv file into a dataframe\n",
    "df_train = pd.read_csv(r\"D:\\git\\dream_challenge_\\novozymes-enzyme-stability-prediction\\train.csv\")\n",
    "df_train"
   ],
   "metadata": {
    "collapsed": false,
    "pycharm": {
     "name": "#%%\n"
    }
   }
  },
  {
   "cell_type": "code",
   "execution_count": 102,
   "outputs": [
    {
     "data": {
      "text/plain": "      seq_id                                   protein_sequence  pH  \\\n0      31390  VPVNPEPDATSVENVAEKTGSGDSQSDPIKADLEVKGQSALPFDVD...   8   \n1      31391  VPVNPEPDATSVENVAKKTGSGDSQSDPIKADLEVKGQSALPFDVD...   8   \n2      31392  VPVNPEPDATSVENVAKTGSGDSQSDPIKADLEVKGQSALPFDVDC...   8   \n3      31393  VPVNPEPDATSVENVALCTGSGDSQSDPIKADLEVKGQSALPFDVD...   8   \n4      31394  VPVNPEPDATSVENVALFTGSGDSQSDPIKADLEVKGQSALPFDVD...   8   \n...      ...                                                ...  ..   \n2408   33798  VPVNPEPDATSVENVILKTGSGDSQSDPIKADLEVKGQSALPFDVD...   8   \n2409   33799  VPVNPEPDATSVENVLLKTGSGDSQSDPIKADLEVKGQSALPFDVD...   8   \n2410   33800  VPVNPEPDATSVENVNLKTGSGDSQSDPIKADLEVKGQSALPFDVD...   8   \n2411   33801  VPVNPEPDATSVENVPLKTGSGDSQSDPIKADLEVKGQSALPFDVD...   8   \n2412   33802  VPVNPEPDATSVENVWLKTGSGDSQSDPIKADLEVKGQSALPFDVD...   8   \n\n     data_source  \n0      Novozymes  \n1      Novozymes  \n2      Novozymes  \n3      Novozymes  \n4      Novozymes  \n...          ...  \n2408   Novozymes  \n2409   Novozymes  \n2410   Novozymes  \n2411   Novozymes  \n2412   Novozymes  \n\n[2413 rows x 4 columns]",
      "text/html": "<div>\n<style scoped>\n    .dataframe tbody tr th:only-of-type {\n        vertical-align: middle;\n    }\n\n    .dataframe tbody tr th {\n        vertical-align: top;\n    }\n\n    .dataframe thead th {\n        text-align: right;\n    }\n</style>\n<table border=\"1\" class=\"dataframe\">\n  <thead>\n    <tr style=\"text-align: right;\">\n      <th></th>\n      <th>seq_id</th>\n      <th>protein_sequence</th>\n      <th>pH</th>\n      <th>data_source</th>\n    </tr>\n  </thead>\n  <tbody>\n    <tr>\n      <th>0</th>\n      <td>31390</td>\n      <td>VPVNPEPDATSVENVAEKTGSGDSQSDPIKADLEVKGQSALPFDVD...</td>\n      <td>8</td>\n      <td>Novozymes</td>\n    </tr>\n    <tr>\n      <th>1</th>\n      <td>31391</td>\n      <td>VPVNPEPDATSVENVAKKTGSGDSQSDPIKADLEVKGQSALPFDVD...</td>\n      <td>8</td>\n      <td>Novozymes</td>\n    </tr>\n    <tr>\n      <th>2</th>\n      <td>31392</td>\n      <td>VPVNPEPDATSVENVAKTGSGDSQSDPIKADLEVKGQSALPFDVDC...</td>\n      <td>8</td>\n      <td>Novozymes</td>\n    </tr>\n    <tr>\n      <th>3</th>\n      <td>31393</td>\n      <td>VPVNPEPDATSVENVALCTGSGDSQSDPIKADLEVKGQSALPFDVD...</td>\n      <td>8</td>\n      <td>Novozymes</td>\n    </tr>\n    <tr>\n      <th>4</th>\n      <td>31394</td>\n      <td>VPVNPEPDATSVENVALFTGSGDSQSDPIKADLEVKGQSALPFDVD...</td>\n      <td>8</td>\n      <td>Novozymes</td>\n    </tr>\n    <tr>\n      <th>...</th>\n      <td>...</td>\n      <td>...</td>\n      <td>...</td>\n      <td>...</td>\n    </tr>\n    <tr>\n      <th>2408</th>\n      <td>33798</td>\n      <td>VPVNPEPDATSVENVILKTGSGDSQSDPIKADLEVKGQSALPFDVD...</td>\n      <td>8</td>\n      <td>Novozymes</td>\n    </tr>\n    <tr>\n      <th>2409</th>\n      <td>33799</td>\n      <td>VPVNPEPDATSVENVLLKTGSGDSQSDPIKADLEVKGQSALPFDVD...</td>\n      <td>8</td>\n      <td>Novozymes</td>\n    </tr>\n    <tr>\n      <th>2410</th>\n      <td>33800</td>\n      <td>VPVNPEPDATSVENVNLKTGSGDSQSDPIKADLEVKGQSALPFDVD...</td>\n      <td>8</td>\n      <td>Novozymes</td>\n    </tr>\n    <tr>\n      <th>2411</th>\n      <td>33801</td>\n      <td>VPVNPEPDATSVENVPLKTGSGDSQSDPIKADLEVKGQSALPFDVD...</td>\n      <td>8</td>\n      <td>Novozymes</td>\n    </tr>\n    <tr>\n      <th>2412</th>\n      <td>33802</td>\n      <td>VPVNPEPDATSVENVWLKTGSGDSQSDPIKADLEVKGQSALPFDVD...</td>\n      <td>8</td>\n      <td>Novozymes</td>\n    </tr>\n  </tbody>\n</table>\n<p>2413 rows × 4 columns</p>\n</div>"
     },
     "execution_count": 102,
     "metadata": {},
     "output_type": "execute_result"
    }
   ],
   "source": [
    "df_test = pd.read_csv(r\"D:\\git\\dream_challenge_\\novozymes-enzyme-stability-prediction\\test.csv\")\n",
    "df_test"
   ],
   "metadata": {
    "collapsed": false,
    "pycharm": {
     "name": "#%%\n"
    }
   }
  },
  {
   "cell_type": "code",
   "execution_count": 103,
   "outputs": [],
   "source": [
    "train_updates = pd.read_csv(r'D:\\git\\dream_challenge_\\novozymes-enzyme-stability-prediction\\train_updates_20220929.csv')"
   ],
   "metadata": {
    "collapsed": false,
    "pycharm": {
     "name": "#%%\n"
    }
   }
  },
  {
   "cell_type": "code",
   "execution_count": 104,
   "outputs": [
    {
     "name": "stderr",
     "output_type": "stream",
     "text": [
      "C:\\Users\\maryg\\AppData\\Local\\Temp\\ipykernel_15308\\1147155682.py:2: FutureWarning: The frame.append method is deprecated and will be removed from pandas in a future version. Use pandas.concat instead.\n",
      "  df_append = df_append.append(df_test, ignore_index=True)\n",
      "C:\\Users\\maryg\\AppData\\Local\\Temp\\ipykernel_15308\\1147155682.py:3: FutureWarning: The frame.append method is deprecated and will be removed from pandas in a future version. Use pandas.concat instead.\n",
      "  df_append = df_append.append(df_train, ignore_index=True)\n"
     ]
    },
    {
     "data": {
      "text/plain": "       seq_id                                   protein_sequence   pH  \\\n0       31390  VPVNPEPDATSVENVAEKTGSGDSQSDPIKADLEVKGQSALPFDVD...  8.0   \n1       31391  VPVNPEPDATSVENVAKKTGSGDSQSDPIKADLEVKGQSALPFDVD...  8.0   \n2       31392  VPVNPEPDATSVENVAKTGSGDSQSDPIKADLEVKGQSALPFDVDC...  8.0   \n3       31393  VPVNPEPDATSVENVALCTGSGDSQSDPIKADLEVKGQSALPFDVD...  8.0   \n4       31394  VPVNPEPDATSVENVALFTGSGDSQSDPIKADLEVKGQSALPFDVD...  8.0   \n...       ...                                                ...  ...   \n33798   31385  YYMYSGGGSALAAGGGGAGRKGDWNDIDSIKKKDLHHSRGDEKAQG...  7.0   \n33799   31386  YYNDQHRLSSYSVETAMFLSWERAIVKPGAMFKKAVIGFNCNVDLI...  7.0   \n33800   31387  YYQRTLGAELLYKISFGEMPKSAQDSAENCPSGMQFPDTAIAHANV...  7.0   \n33801   31388  YYSFSDNITTVFLSRQAIDDDHSLSLGTISDVVESENGVVAADDAR...  7.0   \n33802   31389  YYVPDEYWQSLEVAHKLTFGYGYLTWEWVQGIRSYVYPLLIAGLYK...  7.0   \n\n                             data_source    tm  \n0                              Novozymes   NaN  \n1                              Novozymes   NaN  \n2                              Novozymes   NaN  \n3                              Novozymes   NaN  \n4                              Novozymes   NaN  \n...                                  ...   ...  \n33798  doi.org/10.1038/s41592-020-0801-4  51.8  \n33799  doi.org/10.1038/s41592-020-0801-4  37.2  \n33800  doi.org/10.1038/s41592-020-0801-4  64.6  \n33801  doi.org/10.1038/s41592-020-0801-4  50.7  \n33802  doi.org/10.1038/s41592-020-0801-4  37.6  \n\n[33803 rows x 5 columns]",
      "text/html": "<div>\n<style scoped>\n    .dataframe tbody tr th:only-of-type {\n        vertical-align: middle;\n    }\n\n    .dataframe tbody tr th {\n        vertical-align: top;\n    }\n\n    .dataframe thead th {\n        text-align: right;\n    }\n</style>\n<table border=\"1\" class=\"dataframe\">\n  <thead>\n    <tr style=\"text-align: right;\">\n      <th></th>\n      <th>seq_id</th>\n      <th>protein_sequence</th>\n      <th>pH</th>\n      <th>data_source</th>\n      <th>tm</th>\n    </tr>\n  </thead>\n  <tbody>\n    <tr>\n      <th>0</th>\n      <td>31390</td>\n      <td>VPVNPEPDATSVENVAEKTGSGDSQSDPIKADLEVKGQSALPFDVD...</td>\n      <td>8.0</td>\n      <td>Novozymes</td>\n      <td>NaN</td>\n    </tr>\n    <tr>\n      <th>1</th>\n      <td>31391</td>\n      <td>VPVNPEPDATSVENVAKKTGSGDSQSDPIKADLEVKGQSALPFDVD...</td>\n      <td>8.0</td>\n      <td>Novozymes</td>\n      <td>NaN</td>\n    </tr>\n    <tr>\n      <th>2</th>\n      <td>31392</td>\n      <td>VPVNPEPDATSVENVAKTGSGDSQSDPIKADLEVKGQSALPFDVDC...</td>\n      <td>8.0</td>\n      <td>Novozymes</td>\n      <td>NaN</td>\n    </tr>\n    <tr>\n      <th>3</th>\n      <td>31393</td>\n      <td>VPVNPEPDATSVENVALCTGSGDSQSDPIKADLEVKGQSALPFDVD...</td>\n      <td>8.0</td>\n      <td>Novozymes</td>\n      <td>NaN</td>\n    </tr>\n    <tr>\n      <th>4</th>\n      <td>31394</td>\n      <td>VPVNPEPDATSVENVALFTGSGDSQSDPIKADLEVKGQSALPFDVD...</td>\n      <td>8.0</td>\n      <td>Novozymes</td>\n      <td>NaN</td>\n    </tr>\n    <tr>\n      <th>...</th>\n      <td>...</td>\n      <td>...</td>\n      <td>...</td>\n      <td>...</td>\n      <td>...</td>\n    </tr>\n    <tr>\n      <th>33798</th>\n      <td>31385</td>\n      <td>YYMYSGGGSALAAGGGGAGRKGDWNDIDSIKKKDLHHSRGDEKAQG...</td>\n      <td>7.0</td>\n      <td>doi.org/10.1038/s41592-020-0801-4</td>\n      <td>51.8</td>\n    </tr>\n    <tr>\n      <th>33799</th>\n      <td>31386</td>\n      <td>YYNDQHRLSSYSVETAMFLSWERAIVKPGAMFKKAVIGFNCNVDLI...</td>\n      <td>7.0</td>\n      <td>doi.org/10.1038/s41592-020-0801-4</td>\n      <td>37.2</td>\n    </tr>\n    <tr>\n      <th>33800</th>\n      <td>31387</td>\n      <td>YYQRTLGAELLYKISFGEMPKSAQDSAENCPSGMQFPDTAIAHANV...</td>\n      <td>7.0</td>\n      <td>doi.org/10.1038/s41592-020-0801-4</td>\n      <td>64.6</td>\n    </tr>\n    <tr>\n      <th>33801</th>\n      <td>31388</td>\n      <td>YYSFSDNITTVFLSRQAIDDDHSLSLGTISDVVESENGVVAADDAR...</td>\n      <td>7.0</td>\n      <td>doi.org/10.1038/s41592-020-0801-4</td>\n      <td>50.7</td>\n    </tr>\n    <tr>\n      <th>33802</th>\n      <td>31389</td>\n      <td>YYVPDEYWQSLEVAHKLTFGYGYLTWEWVQGIRSYVYPLLIAGLYK...</td>\n      <td>7.0</td>\n      <td>doi.org/10.1038/s41592-020-0801-4</td>\n      <td>37.6</td>\n    </tr>\n  </tbody>\n</table>\n<p>33803 rows × 5 columns</p>\n</div>"
     },
     "execution_count": 104,
     "metadata": {},
     "output_type": "execute_result"
    }
   ],
   "source": [
    "df_append = pd.DataFrame()\n",
    "df_append = df_append.append(df_test, ignore_index=True)\n",
    "df_append = df_append.append(df_train, ignore_index=True)\n",
    "df_append"
   ],
   "metadata": {
    "collapsed": false,
    "pycharm": {
     "name": "#%%\n"
    }
   }
  },
  {
   "cell_type": "code",
   "execution_count": 105,
   "outputs": [],
   "source": [
    "data=df_append"
   ],
   "metadata": {
    "collapsed": false,
    "pycharm": {
     "name": "#%%\n"
    }
   }
  },
  {
   "cell_type": "code",
   "execution_count": 106,
   "outputs": [
    {
     "data": {
      "text/plain": "(33803, 5)"
     },
     "execution_count": 106,
     "metadata": {},
     "output_type": "execute_result"
    }
   ],
   "source": [
    "data.shape"
   ],
   "metadata": {
    "collapsed": false,
    "pycharm": {
     "name": "#%%\n"
    }
   }
  },
  {
   "cell_type": "markdown",
   "source": [
    "Fazer drop dos valores dos indices que estavam no update"
   ],
   "metadata": {
    "collapsed": false,
    "pycharm": {
     "name": "#%% md\n"
    }
   }
  },
  {
   "cell_type": "code",
   "execution_count": 107,
   "outputs": [],
   "source": [
    "for seq_id in train_updates.seq_id:\n",
    "    data = data.drop(index = seq_id)"
   ],
   "metadata": {
    "collapsed": false,
    "pycharm": {
     "name": "#%%\n"
    }
   }
  },
  {
   "cell_type": "code",
   "execution_count": 108,
   "outputs": [
    {
     "data": {
      "text/plain": "(31369, 5)"
     },
     "execution_count": 108,
     "metadata": {},
     "output_type": "execute_result"
    }
   ],
   "source": [
    "data.shape"
   ],
   "metadata": {
    "collapsed": false,
    "pycharm": {
     "name": "#%%\n"
    }
   }
  },
  {
   "cell_type": "code",
   "execution_count": 109,
   "outputs": [
    {
     "data": {
      "text/plain": "   seq_id                                   protein_sequence   pH data_source  \\\n0   31390  VPVNPEPDATSVENVAEKTGSGDSQSDPIKADLEVKGQSALPFDVD...  8.0   Novozymes   \n1   31391  VPVNPEPDATSVENVAKKTGSGDSQSDPIKADLEVKGQSALPFDVD...  8.0   Novozymes   \n2   31392  VPVNPEPDATSVENVAKTGSGDSQSDPIKADLEVKGQSALPFDVDC...  8.0   Novozymes   \n3   31393  VPVNPEPDATSVENVALCTGSGDSQSDPIKADLEVKGQSALPFDVD...  8.0   Novozymes   \n4   31394  VPVNPEPDATSVENVALFTGSGDSQSDPIKADLEVKGQSALPFDVD...  8.0   Novozymes   \n\n   tm  \n0 NaN  \n1 NaN  \n2 NaN  \n3 NaN  \n4 NaN  ",
      "text/html": "<div>\n<style scoped>\n    .dataframe tbody tr th:only-of-type {\n        vertical-align: middle;\n    }\n\n    .dataframe tbody tr th {\n        vertical-align: top;\n    }\n\n    .dataframe thead th {\n        text-align: right;\n    }\n</style>\n<table border=\"1\" class=\"dataframe\">\n  <thead>\n    <tr style=\"text-align: right;\">\n      <th></th>\n      <th>seq_id</th>\n      <th>protein_sequence</th>\n      <th>pH</th>\n      <th>data_source</th>\n      <th>tm</th>\n    </tr>\n  </thead>\n  <tbody>\n    <tr>\n      <th>0</th>\n      <td>31390</td>\n      <td>VPVNPEPDATSVENVAEKTGSGDSQSDPIKADLEVKGQSALPFDVD...</td>\n      <td>8.0</td>\n      <td>Novozymes</td>\n      <td>NaN</td>\n    </tr>\n    <tr>\n      <th>1</th>\n      <td>31391</td>\n      <td>VPVNPEPDATSVENVAKKTGSGDSQSDPIKADLEVKGQSALPFDVD...</td>\n      <td>8.0</td>\n      <td>Novozymes</td>\n      <td>NaN</td>\n    </tr>\n    <tr>\n      <th>2</th>\n      <td>31392</td>\n      <td>VPVNPEPDATSVENVAKTGSGDSQSDPIKADLEVKGQSALPFDVDC...</td>\n      <td>8.0</td>\n      <td>Novozymes</td>\n      <td>NaN</td>\n    </tr>\n    <tr>\n      <th>3</th>\n      <td>31393</td>\n      <td>VPVNPEPDATSVENVALCTGSGDSQSDPIKADLEVKGQSALPFDVD...</td>\n      <td>8.0</td>\n      <td>Novozymes</td>\n      <td>NaN</td>\n    </tr>\n    <tr>\n      <th>4</th>\n      <td>31394</td>\n      <td>VPVNPEPDATSVENVALFTGSGDSQSDPIKADLEVKGQSALPFDVD...</td>\n      <td>8.0</td>\n      <td>Novozymes</td>\n      <td>NaN</td>\n    </tr>\n  </tbody>\n</table>\n</div>"
     },
     "execution_count": 109,
     "metadata": {},
     "output_type": "execute_result"
    }
   ],
   "source": [
    "data.head()"
   ],
   "metadata": {
    "collapsed": false,
    "pycharm": {
     "name": "#%%\n"
    }
   }
  },
  {
   "cell_type": "code",
   "execution_count": 110,
   "outputs": [],
   "source": [
    "### Sumario dos dados"
   ],
   "metadata": {
    "collapsed": false,
    "pycharm": {
     "name": "#%%\n"
    }
   }
  },
  {
   "cell_type": "code",
   "execution_count": 111,
   "outputs": [
    {
     "data": {
      "text/plain": "             seq_id            pH            tm\ncount  31369.000000  31093.000000  29027.000000\nmean   17151.875418      6.972951     49.099583\nstd     9913.215994      1.612990     13.967426\nmin        0.000000      1.990000     -1.000000\n25%     8317.000000      7.000000     42.100000\n50%    17631.000000      7.000000     48.000000\n75%    25823.000000      7.000000     53.800000\nmax    33802.000000     64.900000    130.000000",
      "text/html": "<div>\n<style scoped>\n    .dataframe tbody tr th:only-of-type {\n        vertical-align: middle;\n    }\n\n    .dataframe tbody tr th {\n        vertical-align: top;\n    }\n\n    .dataframe thead th {\n        text-align: right;\n    }\n</style>\n<table border=\"1\" class=\"dataframe\">\n  <thead>\n    <tr style=\"text-align: right;\">\n      <th></th>\n      <th>seq_id</th>\n      <th>pH</th>\n      <th>tm</th>\n    </tr>\n  </thead>\n  <tbody>\n    <tr>\n      <th>count</th>\n      <td>31369.000000</td>\n      <td>31093.000000</td>\n      <td>29027.000000</td>\n    </tr>\n    <tr>\n      <th>mean</th>\n      <td>17151.875418</td>\n      <td>6.972951</td>\n      <td>49.099583</td>\n    </tr>\n    <tr>\n      <th>std</th>\n      <td>9913.215994</td>\n      <td>1.612990</td>\n      <td>13.967426</td>\n    </tr>\n    <tr>\n      <th>min</th>\n      <td>0.000000</td>\n      <td>1.990000</td>\n      <td>-1.000000</td>\n    </tr>\n    <tr>\n      <th>25%</th>\n      <td>8317.000000</td>\n      <td>7.000000</td>\n      <td>42.100000</td>\n    </tr>\n    <tr>\n      <th>50%</th>\n      <td>17631.000000</td>\n      <td>7.000000</td>\n      <td>48.000000</td>\n    </tr>\n    <tr>\n      <th>75%</th>\n      <td>25823.000000</td>\n      <td>7.000000</td>\n      <td>53.800000</td>\n    </tr>\n    <tr>\n      <th>max</th>\n      <td>33802.000000</td>\n      <td>64.900000</td>\n      <td>130.000000</td>\n    </tr>\n  </tbody>\n</table>\n</div>"
     },
     "execution_count": 111,
     "metadata": {},
     "output_type": "execute_result"
    }
   ],
   "source": [
    "data.describe()"
   ],
   "metadata": {
    "collapsed": false,
    "pycharm": {
     "name": "#%%\n"
    }
   }
  },
  {
   "cell_type": "code",
   "execution_count": 112,
   "outputs": [
    {
     "name": "stdout",
     "output_type": "stream",
     "text": [
      "<class 'pandas.core.frame.DataFrame'>\n",
      "Int64Index: 31369 entries, 0 to 33802\n",
      "Data columns (total 5 columns):\n",
      " #   Column            Non-Null Count  Dtype  \n",
      "---  ------            --------------  -----  \n",
      " 0   seq_id            31369 non-null  int64  \n",
      " 1   protein_sequence  31369 non-null  object \n",
      " 2   pH                31093 non-null  float64\n",
      " 3   data_source       28251 non-null  object \n",
      " 4   tm                29027 non-null  float64\n",
      "dtypes: float64(2), int64(1), object(2)\n",
      "memory usage: 1.4+ MB\n"
     ]
    }
   ],
   "source": [
    "data.info()"
   ],
   "metadata": {
    "collapsed": false,
    "pycharm": {
     "name": "#%%\n"
    }
   }
  },
  {
   "cell_type": "code",
   "execution_count": 113,
   "outputs": [
    {
     "data": {
      "text/plain": "seq_id                 0\nprotein_sequence       0\npH                   276\ndata_source         3118\ntm                  2342\ndtype: int64"
     },
     "execution_count": 113,
     "metadata": {},
     "output_type": "execute_result"
    }
   ],
   "source": [
    "data.isnull().sum()"
   ],
   "metadata": {
    "collapsed": false,
    "pycharm": {
     "name": "#%%\n"
    }
   }
  },
  {
   "cell_type": "code",
   "execution_count": 114,
   "outputs": [
    {
     "data": {
      "text/plain": "(31369, 5)"
     },
     "execution_count": 114,
     "metadata": {},
     "output_type": "execute_result"
    }
   ],
   "source": [
    "data.shape"
   ],
   "metadata": {
    "collapsed": false,
    "pycharm": {
     "name": "#%%\n"
    }
   }
  },
  {
   "cell_type": "code",
   "execution_count": 115,
   "outputs": [
    {
     "data": {
      "text/plain": "Index(['seq_id', 'protein_sequence', 'pH', 'data_source', 'tm'], dtype='object')"
     },
     "execution_count": 115,
     "metadata": {},
     "output_type": "execute_result"
    }
   ],
   "source": [
    "data.columns"
   ],
   "metadata": {
    "collapsed": false,
    "pycharm": {
     "name": "#%%\n"
    }
   }
  },
  {
   "cell_type": "code",
   "execution_count": 116,
   "outputs": [],
   "source": [
    "data=data[data['pH']<14]"
   ],
   "metadata": {
    "collapsed": false,
    "pycharm": {
     "name": "#%%\n"
    }
   }
  },
  {
   "cell_type": "markdown",
   "source": [
    "data.shape"
   ],
   "metadata": {
    "collapsed": false,
    "pycharm": {
     "name": "#%% md\n"
    }
   }
  },
  {
   "cell_type": "code",
   "execution_count": 117,
   "outputs": [],
   "source": [
    "### Visualização dos dados"
   ],
   "metadata": {
    "collapsed": false,
    "pycharm": {
     "name": "#%%\n"
    }
   }
  },
  {
   "cell_type": "code",
   "execution_count": 118,
   "outputs": [
    {
     "data": {
      "text/plain": "<Figure size 360x360 with 1 Axes>",
      "image/png": "[encoded data removed]"
     },
     "metadata": {
      "needs_background": "light"
     },
     "output_type": "display_data"
    }
   ],
   "source": [
    "sns.displot(data=data,x='pH', color=\"magenta\")\n",
    "plt.xlabel(\"pH\")\n",
    "plt.show()"
   ],
   "metadata": {
    "collapsed": false,
    "pycharm": {
     "name": "#%%\n"
    }
   }
  },
  {
   "cell_type": "code",
   "execution_count": 119,
   "outputs": [
    {
     "data": {
      "text/plain": "<Figure size 360x360 with 1 Axes>",
      "image/png": "[encoded data removed]"
     },
     "metadata": {
      "needs_background": "light"
     },
     "output_type": "display_data"
    }
   ],
   "source": [
    "sns.displot(data=data,x='tm', color=\"cyan\")\n",
    "plt.xlabel(\"Tm\")\n",
    "plt.show()"
   ],
   "metadata": {
    "collapsed": false,
    "pycharm": {
     "name": "#%%\n"
    }
   }
  },
  {
   "cell_type": "code",
   "execution_count": 120,
   "outputs": [],
   "source": [
    "aminos = ['A', 'C', 'D', 'E', 'F', 'G', 'H', 'I', 'K', 'L', 'M', 'N', 'P', 'Q', 'R', 'S', 'T', 'V', 'W', 'Y']\n",
    "for letter in aminos:\n",
    "    df_train[letter] = df_train.protein_sequence.str.count(letter)\n",
    "    df_test[letter] = df_test.protein_sequence.str.count(letter)"
   ],
   "metadata": {
    "collapsed": false,
    "pycharm": {
     "name": "#%%\n"
    }
   }
  },
  {
   "cell_type": "code",
   "execution_count": 121,
   "outputs": [],
   "source": [
    "df_train=df_train.dropna()"
   ],
   "metadata": {
    "collapsed": false,
    "pycharm": {
     "name": "#%%\n"
    }
   }
  },
  {
   "cell_type": "code",
   "source": [
    "df_train.shape"
   ],
   "metadata": {
    "collapsed": false,
    "pycharm": {
     "name": "#%%\n"
    }
   },
   "execution_count": 122,
   "outputs": [
    {
     "data": {
      "text/plain": "(27769, 25)"
     },
     "execution_count": 122,
     "metadata": {},
     "output_type": "execute_result"
    }
   ]
  },
  {
   "cell_type": "markdown",
   "source": [
    "## Análise não supervisionada"
   ],
   "metadata": {
    "collapsed": false,
    "pycharm": {
     "name": "#%% md\n"
    }
   }
  },
  {
   "cell_type": "markdown",
   "source": [
    "• Usar as técnicas de redução de dimensionalidade adequadas aos seus dados;\n",
    "• Usar as técnicas de visualização de dados multivariadas adequadas aos seus\n",
    "dados;\n",
    "• Aplicar métodos de clustering que considere adequados aos seus dados."
   ],
   "metadata": {
    "collapsed": false,
    "pycharm": {
     "name": "#%% md\n"
    }
   }
  },
  {
   "cell_type": "markdown",
   "source": [
    "## PCA"
   ],
   "metadata": {
    "collapsed": false,
    "pycharm": {
     "name": "#%% md\n"
    }
   }
  },
  {
   "cell_type": "code",
   "execution_count": 123,
   "outputs": [
    {
     "data": {
      "text/plain": "         tm   pH   A   C   D   E   F   G   H   I  ...   M   N    P   Q   R  \\\n0      75.7  7.0  45   1  13  30  13  38   3  14  ...   8   5   18   6  25   \n1      50.5  7.0  28   0  10  52   6  18   4  13  ...   2   6    8  22  30   \n2      40.5  7.0  50   9  27  32  21  65  11  16  ...   6  15   20  25  31   \n3      47.2  7.0  20   5  19  29  12  16   7  10  ...   2   9   16   9  10   \n4      49.5  7.0  86  14  78  78  32  84  40  71  ...  31  65  128  54  63   \n...     ...  ...  ..  ..  ..  ..  ..  ..  ..  ..  ...  ..  ..  ...  ..  ..   \n31385  51.8  7.0  33  12  38  31  18  51  15  21  ...  13  24   25  24  42   \n31386  37.2  7.0  37   5  21  29  22  27  22  30  ...  14  19   19  16  25   \n31387  64.6  7.0  13   1   7   7   7  11   2   6  ...   7   5    6   8   3   \n31388  50.7  7.0  47   5  34  36  23  52  11  34  ...  26  25   31  12  25   \n31389  37.6  7.0  34   5  15  32  26  24  21  31  ...   7  20   31  18  28   \n\n         S    T    V   W   Y  \n0       11   14   37   4   3  \n1       14   12   13   3   3  \n2       33   30   30   3  16  \n3       16   19   14   3   4  \n4      148  120  124  16  47  \n...    ...  ...  ...  ..  ..  \n31385   33   18   42  13  18  \n31386   37   26   34   5  14  \n31387   10    6    7   4   4  \n31388   51   32   48   3  18  \n31389   34   29   38  18  29  \n\n[27769 rows x 22 columns]",
      "text/html": "<div>\n<style scoped>\n    .dataframe tbody tr th:only-of-type {\n        vertical-align: middle;\n    }\n\n    .dataframe tbody tr th {\n        vertical-align: top;\n    }\n\n    .dataframe thead th {\n        text-align: right;\n    }\n</style>\n<table border=\"1\" class=\"dataframe\">\n  <thead>\n    <tr style=\"text-align: right;\">\n      <th></th>\n      <th>tm</th>\n      <th>pH</th>\n      <th>A</th>\n      <th>C</th>\n      <th>D</th>\n      <th>E</th>\n      <th>F</th>\n      <th>G</th>\n      <th>H</th>\n      <th>I</th>\n      <th>...</th>\n      <th>M</th>\n      <th>N</th>\n      <th>P</th>\n      <th>Q</th>\n      <th>R</th>\n      <th>S</th>\n      <th>T</th>\n      <th>V</th>\n      <th>W</th>\n      <th>Y</th>\n    </tr>\n  </thead>\n  <tbody>\n    <tr>\n      <th>0</th>\n      <td>75.7</td>\n      <td>7.0</td>\n      <td>45</td>\n      <td>1</td>\n      <td>13</td>\n      <td>30</td>\n      <td>13</td>\n      <td>38</td>\n      <td>3</td>\n      <td>14</td>\n      <td>...</td>\n      <td>8</td>\n      <td>5</td>\n      <td>18</td>\n      <td>6</td>\n      <td>25</td>\n      <td>11</td>\n      <td>14</td>\n      <td>37</td>\n      <td>4</td>\n      <td>3</td>\n    </tr>\n    <tr>\n      <th>1</th>\n      <td>50.5</td>\n      <td>7.0</td>\n      <td>28</td>\n      <td>0</td>\n      <td>10</td>\n      <td>52</td>\n      <td>6</td>\n      <td>18</td>\n      <td>4</td>\n      <td>13</td>\n      <td>...</td>\n      <td>2</td>\n      <td>6</td>\n      <td>8</td>\n      <td>22</td>\n      <td>30</td>\n      <td>14</td>\n      <td>12</td>\n      <td>13</td>\n      <td>3</td>\n      <td>3</td>\n    </tr>\n    <tr>\n      <th>2</th>\n      <td>40.5</td>\n      <td>7.0</td>\n      <td>50</td>\n      <td>9</td>\n      <td>27</td>\n      <td>32</td>\n      <td>21</td>\n      <td>65</td>\n      <td>11</td>\n      <td>16</td>\n      <td>...</td>\n      <td>6</td>\n      <td>15</td>\n      <td>20</td>\n      <td>25</td>\n      <td>31</td>\n      <td>33</td>\n      <td>30</td>\n      <td>30</td>\n      <td>3</td>\n      <td>16</td>\n    </tr>\n    <tr>\n      <th>3</th>\n      <td>47.2</td>\n      <td>7.0</td>\n      <td>20</td>\n      <td>5</td>\n      <td>19</td>\n      <td>29</td>\n      <td>12</td>\n      <td>16</td>\n      <td>7</td>\n      <td>10</td>\n      <td>...</td>\n      <td>2</td>\n      <td>9</td>\n      <td>16</td>\n      <td>9</td>\n      <td>10</td>\n      <td>16</td>\n      <td>19</td>\n      <td>14</td>\n      <td>3</td>\n      <td>4</td>\n    </tr>\n    <tr>\n      <th>4</th>\n      <td>49.5</td>\n      <td>7.0</td>\n      <td>86</td>\n      <td>14</td>\n      <td>78</td>\n      <td>78</td>\n      <td>32</td>\n      <td>84</td>\n      <td>40</td>\n      <td>71</td>\n      <td>...</td>\n      <td>31</td>\n      <td>65</td>\n      <td>128</td>\n      <td>54</td>\n      <td>63</td>\n      <td>148</td>\n      <td>120</td>\n      <td>124</td>\n      <td>16</td>\n      <td>47</td>\n    </tr>\n    <tr>\n      <th>...</th>\n      <td>...</td>\n      <td>...</td>\n      <td>...</td>\n      <td>...</td>\n      <td>...</td>\n      <td>...</td>\n      <td>...</td>\n      <td>...</td>\n      <td>...</td>\n      <td>...</td>\n      <td>...</td>\n      <td>...</td>\n      <td>...</td>\n      <td>...</td>\n      <td>...</td>\n      <td>...</td>\n      <td>...</td>\n      <td>...</td>\n      <td>...</td>\n      <td>...</td>\n      <td>...</td>\n    </tr>\n    <tr>\n      <th>31385</th>\n      <td>51.8</td>\n      <td>7.0</td>\n      <td>33</td>\n      <td>12</td>\n      <td>38</td>\n      <td>31</td>\n      <td>18</td>\n      <td>51</td>\n      <td>15</td>\n      <td>21</td>\n      <td>...</td>\n      <td>13</td>\n      <td>24</td>\n      <td>25</td>\n      <td>24</td>\n      <td>42</td>\n      <td>33</td>\n      <td>18</td>\n      <td>42</td>\n      <td>13</td>\n      <td>18</td>\n    </tr>\n    <tr>\n      <th>31386</th>\n      <td>37.2</td>\n      <td>7.0</td>\n      <td>37</td>\n      <td>5</td>\n      <td>21</td>\n      <td>29</td>\n      <td>22</td>\n      <td>27</td>\n      <td>22</td>\n      <td>30</td>\n      <td>...</td>\n      <td>14</td>\n      <td>19</td>\n      <td>19</td>\n      <td>16</td>\n      <td>25</td>\n      <td>37</td>\n      <td>26</td>\n      <td>34</td>\n      <td>5</td>\n      <td>14</td>\n    </tr>\n    <tr>\n      <th>31387</th>\n      <td>64.6</td>\n      <td>7.0</td>\n      <td>13</td>\n      <td>1</td>\n      <td>7</td>\n      <td>7</td>\n      <td>7</td>\n      <td>11</td>\n      <td>2</td>\n      <td>6</td>\n      <td>...</td>\n      <td>7</td>\n      <td>5</td>\n      <td>6</td>\n      <td>8</td>\n      <td>3</td>\n      <td>10</td>\n      <td>6</td>\n      <td>7</td>\n      <td>4</td>\n      <td>4</td>\n    </tr>\n    <tr>\n      <th>31388</th>\n      <td>50.7</td>\n      <td>7.0</td>\n      <td>47</td>\n      <td>5</td>\n      <td>34</td>\n      <td>36</td>\n      <td>23</td>\n      <td>52</td>\n      <td>11</td>\n      <td>34</td>\n      <td>...</td>\n      <td>26</td>\n      <td>25</td>\n      <td>31</td>\n      <td>12</td>\n      <td>25</td>\n      <td>51</td>\n      <td>32</td>\n      <td>48</td>\n      <td>3</td>\n      <td>18</td>\n    </tr>\n    <tr>\n      <th>31389</th>\n      <td>37.6</td>\n      <td>7.0</td>\n      <td>34</td>\n      <td>5</td>\n      <td>15</td>\n      <td>32</td>\n      <td>26</td>\n      <td>24</td>\n      <td>21</td>\n      <td>31</td>\n      <td>...</td>\n      <td>7</td>\n      <td>20</td>\n      <td>31</td>\n      <td>18</td>\n      <td>28</td>\n      <td>34</td>\n      <td>29</td>\n      <td>38</td>\n      <td>18</td>\n      <td>29</td>\n    </tr>\n  </tbody>\n</table>\n<p>27769 rows × 22 columns</p>\n</div>"
     },
     "execution_count": 123,
     "metadata": {},
     "output_type": "execute_result"
    }
   ],
   "source": [
    "df = df_train[['tm', 'pH','A', 'C', 'D', 'E', 'F', 'G', 'H', 'I', 'K', 'L', 'M', 'N', 'P', 'Q', 'R', 'S', 'T', 'V', 'W', 'Y']].copy()\n",
    "df=df.dropna()\n",
    "df"
   ],
   "metadata": {
    "collapsed": false,
    "pycharm": {
     "name": "#%%\n"
    }
   }
  },
  {
   "cell_type": "code",
   "execution_count": 124,
   "outputs": [
    {
     "name": "stdout",
     "output_type": "stream",
     "text": [
      "[0.71167164 0.0492993 ]\n",
      "Shape before PCA:  (27769, 22)\n",
      "Shape after PCA:  (27769, 2)\n"
     ]
    }
   ],
   "source": [
    "from sklearn import preprocessing\n",
    "from sklearn.decomposition import PCA\n",
    "data_scaled= preprocessing.scale(df)\n",
    "n=2\n",
    "pca = PCA(n_components=n)\n",
    "pca.fit(data_scaled)\n",
    "x_reduced = pca.transform(data_scaled)\n",
    "\n",
    "print (pca.explained_variance_ratio_)\n",
    "print('Shape before PCA: ', data_scaled.shape)\n",
    "print('Shape after PCA: ', x_reduced.shape)"
   ],
   "metadata": {
    "collapsed": false,
    "pycharm": {
     "name": "#%%\n"
    }
   }
  },
  {
   "cell_type": "markdown",
   "source": [
    "import plotly.express as px\n",
    "fig = px.scatter(x_reduced, x=0, y=1)\n",
    "fig.show()"
   ],
   "metadata": {
    "collapsed": false,
    "pycharm": {
     "name": "#%% md\n"
    }
   }
  },
  {
   "cell_type": "markdown",
   "source": [
    "# Métodos de clustering\n"
   ],
   "metadata": {
    "collapsed": false,
    "pycharm": {
     "name": "#%% md\n"
    }
   }
  },
  {
   "cell_type": "markdown",
   "source": [
    "## K-Means Clustering\n",
    "K-Means clustering is the most popular unsupervised machine learning algorithm and is used to find intrinsic groups within the unlabelled dataset and draw inferences from them."
   ],
   "metadata": {
    "collapsed": false,
    "pycharm": {
     "name": "#%% md\n"
    }
   }
  },
  {
   "cell_type": "markdown",
   "source": [
    "#### Declare feature vector and target variable"
   ],
   "metadata": {
    "collapsed": false,
    "pycharm": {
     "name": "#%% md\n"
    }
   }
  },
  {
   "cell_type": "code",
   "execution_count": 125,
   "outputs": [
    {
     "data": {
      "text/plain": "0        7.0\n1        7.0\n2        7.0\n3        7.0\n4        7.0\n        ... \n31385    7.0\n31386    7.0\n31387    7.0\n31388    7.0\n31389    7.0\nName: pH, Length: 27769, dtype: float64"
     },
     "execution_count": 125,
     "metadata": {},
     "output_type": "execute_result"
    }
   ],
   "source": [
    "X = df\n",
    "\n",
    "y = df['pH']\n",
    "y"
   ],
   "metadata": {
    "collapsed": false,
    "pycharm": {
     "name": "#%%\n"
    }
   }
  },
  {
   "cell_type": "markdown",
   "source": [
    "#### Convert categorical variable into integers"
   ],
   "metadata": {
    "collapsed": false,
    "pycharm": {
     "name": "#%% md\n"
    }
   }
  },
  {
   "cell_type": "code",
   "execution_count": 126,
   "outputs": [],
   "source": [
    "from sklearn.preprocessing import LabelEncoder\n",
    "\n",
    "le = LabelEncoder()\n",
    "\n",
    "X['pH'] = le.fit_transform(X['pH'])\n",
    "\n",
    "y = le.transform(y)"
   ],
   "metadata": {
    "collapsed": false,
    "pycharm": {
     "name": "#%%\n"
    }
   }
  },
  {
   "cell_type": "markdown",
   "source": [
    "#### View the summary of X"
   ],
   "metadata": {
    "collapsed": false,
    "pycharm": {
     "name": "#%% md\n"
    }
   }
  },
  {
   "cell_type": "code",
   "execution_count": 127,
   "outputs": [
    {
     "name": "stdout",
     "output_type": "stream",
     "text": [
      "<class 'pandas.core.frame.DataFrame'>\n",
      "Int64Index: 27769 entries, 0 to 31389\n",
      "Data columns (total 22 columns):\n",
      " #   Column  Non-Null Count  Dtype  \n",
      "---  ------  --------------  -----  \n",
      " 0   tm      27769 non-null  float64\n",
      " 1   pH      27769 non-null  int64  \n",
      " 2   A       27769 non-null  int64  \n",
      " 3   C       27769 non-null  int64  \n",
      " 4   D       27769 non-null  int64  \n",
      " 5   E       27769 non-null  int64  \n",
      " 6   F       27769 non-null  int64  \n",
      " 7   G       27769 non-null  int64  \n",
      " 8   H       27769 non-null  int64  \n",
      " 9   I       27769 non-null  int64  \n",
      " 10  K       27769 non-null  int64  \n",
      " 11  L       27769 non-null  int64  \n",
      " 12  M       27769 non-null  int64  \n",
      " 13  N       27769 non-null  int64  \n",
      " 14  P       27769 non-null  int64  \n",
      " 15  Q       27769 non-null  int64  \n",
      " 16  R       27769 non-null  int64  \n",
      " 17  S       27769 non-null  int64  \n",
      " 18  T       27769 non-null  int64  \n",
      " 19  V       27769 non-null  int64  \n",
      " 20  W       27769 non-null  int64  \n",
      " 21  Y       27769 non-null  int64  \n",
      "dtypes: float64(1), int64(21)\n",
      "memory usage: 4.9 MB\n"
     ]
    }
   ],
   "source": [
    "X.info()"
   ],
   "metadata": {
    "collapsed": false,
    "pycharm": {
     "name": "#%%\n"
    }
   }
  },
  {
   "cell_type": "markdown",
   "source": [
    "#### Preview the dataset X"
   ],
   "metadata": {
    "collapsed": false,
    "pycharm": {
     "name": "#%% md\n"
    }
   }
  },
  {
   "cell_type": "code",
   "execution_count": 128,
   "outputs": [
    {
     "data": {
      "text/plain": "     tm  pH   A   C   D   E   F   G   H   I  ...   M   N    P   Q   R    S  \\\n0  75.7  66  45   1  13  30  13  38   3  14  ...   8   5   18   6  25   11   \n1  50.5  66  28   0  10  52   6  18   4  13  ...   2   6    8  22  30   14   \n2  40.5  66  50   9  27  32  21  65  11  16  ...   6  15   20  25  31   33   \n3  47.2  66  20   5  19  29  12  16   7  10  ...   2   9   16   9  10   16   \n4  49.5  66  86  14  78  78  32  84  40  71  ...  31  65  128  54  63  148   \n\n     T    V   W   Y  \n0   14   37   4   3  \n1   12   13   3   3  \n2   30   30   3  16  \n3   19   14   3   4  \n4  120  124  16  47  \n\n[5 rows x 22 columns]",
      "text/html": "<div>\n<style scoped>\n    .dataframe tbody tr th:only-of-type {\n        vertical-align: middle;\n    }\n\n    .dataframe tbody tr th {\n        vertical-align: top;\n    }\n\n    .dataframe thead th {\n        text-align: right;\n    }\n</style>\n<table border=\"1\" class=\"dataframe\">\n  <thead>\n    <tr style=\"text-align: right;\">\n      <th></th>\n      <th>tm</th>\n      <th>pH</th>\n      <th>A</th>\n      <th>C</th>\n      <th>D</th>\n      <th>E</th>\n      <th>F</th>\n      <th>G</th>\n      <th>H</th>\n      <th>I</th>\n      <th>...</th>\n      <th>M</th>\n      <th>N</th>\n      <th>P</th>\n      <th>Q</th>\n      <th>R</th>\n      <th>S</th>\n      <th>T</th>\n      <th>V</th>\n      <th>W</th>\n      <th>Y</th>\n    </tr>\n  </thead>\n  <tbody>\n    <tr>\n      <th>0</th>\n      <td>75.7</td>\n      <td>66</td>\n      <td>45</td>\n      <td>1</td>\n      <td>13</td>\n      <td>30</td>\n      <td>13</td>\n      <td>38</td>\n      <td>3</td>\n      <td>14</td>\n      <td>...</td>\n      <td>8</td>\n      <td>5</td>\n      <td>18</td>\n      <td>6</td>\n      <td>25</td>\n      <td>11</td>\n      <td>14</td>\n      <td>37</td>\n      <td>4</td>\n      <td>3</td>\n    </tr>\n    <tr>\n      <th>1</th>\n      <td>50.5</td>\n      <td>66</td>\n      <td>28</td>\n      <td>0</td>\n      <td>10</td>\n      <td>52</td>\n      <td>6</td>\n      <td>18</td>\n      <td>4</td>\n      <td>13</td>\n      <td>...</td>\n      <td>2</td>\n      <td>6</td>\n      <td>8</td>\n      <td>22</td>\n      <td>30</td>\n      <td>14</td>\n      <td>12</td>\n      <td>13</td>\n      <td>3</td>\n      <td>3</td>\n    </tr>\n    <tr>\n      <th>2</th>\n      <td>40.5</td>\n      <td>66</td>\n      <td>50</td>\n      <td>9</td>\n      <td>27</td>\n      <td>32</td>\n      <td>21</td>\n      <td>65</td>\n      <td>11</td>\n      <td>16</td>\n      <td>...</td>\n      <td>6</td>\n      <td>15</td>\n      <td>20</td>\n      <td>25</td>\n      <td>31</td>\n      <td>33</td>\n      <td>30</td>\n      <td>30</td>\n      <td>3</td>\n      <td>16</td>\n    </tr>\n    <tr>\n      <th>3</th>\n      <td>47.2</td>\n      <td>66</td>\n      <td>20</td>\n      <td>5</td>\n      <td>19</td>\n      <td>29</td>\n      <td>12</td>\n      <td>16</td>\n      <td>7</td>\n      <td>10</td>\n      <td>...</td>\n      <td>2</td>\n      <td>9</td>\n      <td>16</td>\n      <td>9</td>\n      <td>10</td>\n      <td>16</td>\n      <td>19</td>\n      <td>14</td>\n      <td>3</td>\n      <td>4</td>\n    </tr>\n    <tr>\n      <th>4</th>\n      <td>49.5</td>\n      <td>66</td>\n      <td>86</td>\n      <td>14</td>\n      <td>78</td>\n      <td>78</td>\n      <td>32</td>\n      <td>84</td>\n      <td>40</td>\n      <td>71</td>\n      <td>...</td>\n      <td>31</td>\n      <td>65</td>\n      <td>128</td>\n      <td>54</td>\n      <td>63</td>\n      <td>148</td>\n      <td>120</td>\n      <td>124</td>\n      <td>16</td>\n      <td>47</td>\n    </tr>\n  </tbody>\n</table>\n<p>5 rows × 22 columns</p>\n</div>"
     },
     "execution_count": 128,
     "metadata": {},
     "output_type": "execute_result"
    }
   ],
   "source": [
    "X.head()"
   ],
   "metadata": {
    "collapsed": false,
    "pycharm": {
     "name": "#%%\n"
    }
   }
  },
  {
   "cell_type": "markdown",
   "source": [
    "#### Feature Scaling"
   ],
   "metadata": {
    "collapsed": false,
    "pycharm": {
     "name": "#%% md\n"
    }
   }
  },
  {
   "cell_type": "code",
   "execution_count": 129,
   "outputs": [
    {
     "data": {
      "text/plain": "         tm        pH         A         C         D         E         F  \\\n0  0.582308  0.741573  0.049505  0.002755  0.015458  0.030151  0.057269   \n1  0.388462  0.741573  0.030803  0.000000  0.011891  0.052261  0.026432   \n2  0.311538  0.741573  0.055006  0.024793  0.032105  0.032161  0.092511   \n3  0.363077  0.741573  0.022002  0.013774  0.022592  0.029146  0.052863   \n4  0.380769  0.741573  0.094609  0.038567  0.092747  0.078392  0.140969   \n\n          G         H         I  ...         M         N         P         Q  \\\n0  0.065858  0.009740  0.030303  ...  0.037559  0.011494  0.023316  0.007762   \n1  0.031196  0.012987  0.028139  ...  0.009390  0.013793  0.010363  0.028461   \n2  0.112652  0.035714  0.034632  ...  0.028169  0.034483  0.025907  0.032342   \n3  0.027730  0.022727  0.021645  ...  0.009390  0.020690  0.020725  0.011643   \n4  0.145581  0.129870  0.153680  ...  0.145540  0.149425  0.165803  0.069858   \n\n          R         S         T         V         W         Y  \n0  0.055310  0.014267  0.021341  0.066787  0.030534  0.015075  \n1  0.066372  0.018158  0.018293  0.023466  0.022901  0.015075  \n2  0.068584  0.042802  0.045732  0.054152  0.022901  0.080402  \n3  0.022124  0.020752  0.028963  0.025271  0.022901  0.020101  \n4  0.139381  0.191958  0.182927  0.223827  0.122137  0.236181  \n\n[5 rows x 22 columns]",
      "text/html": "<div>\n<style scoped>\n    .dataframe tbody tr th:only-of-type {\n        vertical-align: middle;\n    }\n\n    .dataframe tbody tr th {\n        vertical-align: top;\n    }\n\n    .dataframe thead tr th {\n        text-align: left;\n    }\n</style>\n<table border=\"1\" class=\"dataframe\">\n  <thead>\n    <tr>\n      <th></th>\n      <th>tm</th>\n      <th>pH</th>\n      <th>A</th>\n      <th>C</th>\n      <th>D</th>\n      <th>E</th>\n      <th>F</th>\n      <th>G</th>\n      <th>H</th>\n      <th>I</th>\n      <th>...</th>\n      <th>M</th>\n      <th>N</th>\n      <th>P</th>\n      <th>Q</th>\n      <th>R</th>\n      <th>S</th>\n      <th>T</th>\n      <th>V</th>\n      <th>W</th>\n      <th>Y</th>\n    </tr>\n  </thead>\n  <tbody>\n    <tr>\n      <th>0</th>\n      <td>0.582308</td>\n      <td>0.741573</td>\n      <td>0.049505</td>\n      <td>0.002755</td>\n      <td>0.015458</td>\n      <td>0.030151</td>\n      <td>0.057269</td>\n      <td>0.065858</td>\n      <td>0.009740</td>\n      <td>0.030303</td>\n      <td>...</td>\n      <td>0.037559</td>\n      <td>0.011494</td>\n      <td>0.023316</td>\n      <td>0.007762</td>\n      <td>0.055310</td>\n      <td>0.014267</td>\n      <td>0.021341</td>\n      <td>0.066787</td>\n      <td>0.030534</td>\n      <td>0.015075</td>\n    </tr>\n    <tr>\n      <th>1</th>\n      <td>0.388462</td>\n      <td>0.741573</td>\n      <td>0.030803</td>\n      <td>0.000000</td>\n      <td>0.011891</td>\n      <td>0.052261</td>\n      <td>0.026432</td>\n      <td>0.031196</td>\n      <td>0.012987</td>\n      <td>0.028139</td>\n      <td>...</td>\n      <td>0.009390</td>\n      <td>0.013793</td>\n      <td>0.010363</td>\n      <td>0.028461</td>\n      <td>0.066372</td>\n      <td>0.018158</td>\n      <td>0.018293</td>\n      <td>0.023466</td>\n      <td>0.022901</td>\n      <td>0.015075</td>\n    </tr>\n    <tr>\n      <th>2</th>\n      <td>0.311538</td>\n      <td>0.741573</td>\n      <td>0.055006</td>\n      <td>0.024793</td>\n      <td>0.032105</td>\n      <td>0.032161</td>\n      <td>0.092511</td>\n      <td>0.112652</td>\n      <td>0.035714</td>\n      <td>0.034632</td>\n      <td>...</td>\n      <td>0.028169</td>\n      <td>0.034483</td>\n      <td>0.025907</td>\n      <td>0.032342</td>\n      <td>0.068584</td>\n      <td>0.042802</td>\n      <td>0.045732</td>\n      <td>0.054152</td>\n      <td>0.022901</td>\n      <td>0.080402</td>\n    </tr>\n    <tr>\n      <th>3</th>\n      <td>0.363077</td>\n      <td>0.741573</td>\n      <td>0.022002</td>\n      <td>0.013774</td>\n      <td>0.022592</td>\n      <td>0.029146</td>\n      <td>0.052863</td>\n      <td>0.027730</td>\n      <td>0.022727</td>\n      <td>0.021645</td>\n      <td>...</td>\n      <td>0.009390</td>\n      <td>0.020690</td>\n      <td>0.020725</td>\n      <td>0.011643</td>\n      <td>0.022124</td>\n      <td>0.020752</td>\n      <td>0.028963</td>\n      <td>0.025271</td>\n      <td>0.022901</td>\n      <td>0.020101</td>\n    </tr>\n    <tr>\n      <th>4</th>\n      <td>0.380769</td>\n      <td>0.741573</td>\n      <td>0.094609</td>\n      <td>0.038567</td>\n      <td>0.092747</td>\n      <td>0.078392</td>\n      <td>0.140969</td>\n      <td>0.145581</td>\n      <td>0.129870</td>\n      <td>0.153680</td>\n      <td>...</td>\n      <td>0.145540</td>\n      <td>0.149425</td>\n      <td>0.165803</td>\n      <td>0.069858</td>\n      <td>0.139381</td>\n      <td>0.191958</td>\n      <td>0.182927</td>\n      <td>0.223827</td>\n      <td>0.122137</td>\n      <td>0.236181</td>\n    </tr>\n  </tbody>\n</table>\n<p>5 rows × 22 columns</p>\n</div>"
     },
     "execution_count": 129,
     "metadata": {},
     "output_type": "execute_result"
    }
   ],
   "source": [
    "cols = X.columns\n",
    "from sklearn.preprocessing import MinMaxScaler\n",
    "\n",
    "ms = MinMaxScaler()\n",
    "\n",
    "X = ms.fit_transform(X)\n",
    "X = pd.DataFrame(X, columns=[cols])\n",
    "X.head()"
   ],
   "metadata": {
    "collapsed": false,
    "pycharm": {
     "name": "#%%\n"
    }
   }
  },
  {
   "cell_type": "markdown",
   "source": [
    "#### K-Means model with two clusters"
   ],
   "metadata": {
    "collapsed": false,
    "pycharm": {
     "name": "#%% md\n"
    }
   }
  },
  {
   "cell_type": "code",
   "execution_count": 89,
   "outputs": [
    {
     "data": {
      "text/plain": "KMeans(n_clusters=2, random_state=0)",
      "text/html": "<style>#sk-container-id-2 {color: black;background-color: white;}#sk-container-id-2 pre{padding: 0;}#sk-container-id-2 div.sk-toggleable {background-color: white;}#sk-container-id-2 label.sk-toggleable__label {cursor: pointer;display: block;width: 100%;margin-bottom: 0;padding: 0.3em;box-sizing: border-box;text-align: center;}#sk-container-id-2 label.sk-toggleable__label-arrow:before {content: \"▸\";float: left;margin-right: 0.25em;color: #696969;}#sk-container-id-2 label.sk-toggleable__label-arrow:hover:before {color: black;}#sk-container-id-2 div.sk-estimator:hover label.sk-toggleable__label-arrow:before {color: black;}#sk-container-id-2 div.sk-toggleable__content {max-height: 0;max-width: 0;overflow: hidden;text-align: left;background-color: #f0f8ff;}#sk-container-id-2 div.sk-toggleable__content pre {margin: 0.2em;color: black;border-radius: 0.25em;background-color: #f0f8ff;}#sk-container-id-2 input.sk-toggleable__control:checked~div.sk-toggleable__content {max-height: 200px;max-width: 100%;overflow: auto;}#sk-container-id-2 input.sk-toggleable__control:checked~label.sk-toggleable__label-arrow:before {content: \"▾\";}#sk-container-id-2 div.sk-estimator input.sk-toggleable__control:checked~label.sk-toggleable__label {background-color: #d4ebff;}#sk-container-id-2 div.sk-label input.sk-toggleable__control:checked~label.sk-toggleable__label {background-color: #d4ebff;}#sk-container-id-2 input.sk-hidden--visually {border: 0;clip: rect(1px 1px 1px 1px);clip: rect(1px, 1px, 1px, 1px);height: 1px;margin: -1px;overflow: hidden;padding: 0;position: absolute;width: 1px;}#sk-container-id-2 div.sk-estimator {font-family: monospace;background-color: #f0f8ff;border: 1px dotted black;border-radius: 0.25em;box-sizing: border-box;margin-bottom: 0.5em;}#sk-container-id-2 div.sk-estimator:hover {background-color: #d4ebff;}#sk-container-id-2 div.sk-parallel-item::after {content: \"\";width: 100%;border-bottom: 1px solid gray;flex-grow: 1;}#sk-container-id-2 div.sk-label:hover label.sk-toggleable__label {background-color: #d4ebff;}#sk-container-id-2 div.sk-serial::before {content: \"\";position: absolute;border-left: 1px solid gray;box-sizing: border-box;top: 0;bottom: 0;left: 50%;z-index: 0;}#sk-container-id-2 div.sk-serial {display: flex;flex-direction: column;align-items: center;background-color: white;padding-right: 0.2em;padding-left: 0.2em;position: relative;}#sk-container-id-2 div.sk-item {position: relative;z-index: 1;}#sk-container-id-2 div.sk-parallel {display: flex;align-items: stretch;justify-content: center;background-color: white;position: relative;}#sk-container-id-2 div.sk-item::before, #sk-container-id-2 div.sk-parallel-item::before {content: \"\";position: absolute;border-left: 1px solid gray;box-sizing: border-box;top: 0;bottom: 0;left: 50%;z-index: -1;}#sk-container-id-2 div.sk-parallel-item {display: flex;flex-direction: column;z-index: 1;position: relative;background-color: white;}#sk-container-id-2 div.sk-parallel-item:first-child::after {align-self: flex-end;width: 50%;}#sk-container-id-2 div.sk-parallel-item:last-child::after {align-self: flex-start;width: 50%;}#sk-container-id-2 div.sk-parallel-item:only-child::after {width: 0;}#sk-container-id-2 div.sk-dashed-wrapped {border: 1px dashed gray;margin: 0 0.4em 0.5em 0.4em;box-sizing: border-box;padding-bottom: 0.4em;background-color: white;}#sk-container-id-2 div.sk-label label {font-family: monospace;font-weight: bold;display: inline-block;line-height: 1.2em;}#sk-container-id-2 div.sk-label-container {text-align: center;}#sk-container-id-2 div.sk-container {/* jupyter's `normalize.less` sets `[hidden] { display: none; }` but bootstrap.min.css set `[hidden] { display: none !important; }` so we also need the `!important` here to be able to override the default hidden behavior on the sphinx rendered scikit-learn.org. See: https://github.com/scikit-learn/scikit-learn/issues/21755 */display: inline-block !important;position: relative;}#sk-container-id-2 div.sk-text-repr-fallback {display: none;}</style><div id=\"sk-container-id-2\" class=\"sk-top-container\"><div class=\"sk-text-repr-fallback\"><pre>KMeans(n_clusters=2, random_state=0)</pre><b>In a Jupyter environment, please rerun this cell to show the HTML representation or trust the notebook. <br />On GitHub, the HTML representation is unable to render, please try loading this page with nbviewer.org.</b></div><div class=\"sk-container\" hidden><div class=\"sk-item\"><div class=\"sk-estimator sk-toggleable\"><input class=\"sk-toggleable__control sk-hidden--visually\" id=\"sk-estimator-id-2\" type=\"checkbox\" checked><label for=\"sk-estimator-id-2\" class=\"sk-toggleable__label sk-toggleable__label-arrow\">KMeans</label><div class=\"sk-toggleable__content\"><pre>KMeans(n_clusters=2, random_state=0)</pre></div></div></div></div></div>"
     },
     "execution_count": 89,
     "metadata": {},
     "output_type": "execute_result"
    }
   ],
   "source": [
    "from sklearn.cluster import KMeans, AgglomerativeClustering\n",
    "\n",
    "kmeans = KMeans(n_clusters=2, random_state=0)\n",
    "\n",
    "kmeans.fit(X)"
   ],
   "metadata": {
    "collapsed": false,
    "pycharm": {
     "name": "#%%\n"
    }
   }
  },
  {
   "cell_type": "markdown",
   "source": [
    "#### K-Means model parameters study"
   ],
   "metadata": {
    "collapsed": false,
    "pycharm": {
     "name": "#%% md\n"
    }
   }
  },
  {
   "cell_type": "code",
   "execution_count": 90,
   "outputs": [
    {
     "data": {
      "text/plain": "array([[0.36259869, 0.73987213, 0.10240066, 0.05768338, 0.08704143,\n        0.09859453, 0.20499051, 0.13494052, 0.10104502, 0.14088979,\n        0.10773314, 0.10922784, 0.13660318, 0.12962059, 0.09118702,\n        0.08392908, 0.15511089, 0.13936778, 0.10792451, 0.14552998,\n        0.10146058, 0.17690643],\n       [0.39958086, 0.72718053, 0.03041627, 0.01361666, 0.02312447,\n        0.02518691, 0.05972762, 0.04250409, 0.02559894, 0.04173459,\n        0.02944787, 0.02883022, 0.03932616, 0.0336823 , 0.02221004,\n        0.01863733, 0.04177747, 0.03087404, 0.02785402, 0.04214161,\n        0.03058241, 0.05386017]])"
     },
     "execution_count": 90,
     "metadata": {},
     "output_type": "execute_result"
    }
   ],
   "source": [
    "kmeans.cluster_centers_\n"
   ],
   "metadata": {
    "collapsed": false,
    "pycharm": {
     "name": "#%%\n"
    }
   }
  },
  {
   "cell_type": "markdown",
   "source": [
    "### Inertia"
   ],
   "metadata": {
    "collapsed": false,
    "pycharm": {
     "name": "#%% md\n"
    }
   }
  },
  {
   "cell_type": "markdown",
   "source": [
    "• Inertia is not a normalized metric.\n",
    "\n",
    "• The lower values of inertia are better and zero is optimal.\n",
    "\n",
    "• But in very high-dimensional spaces, euclidean distances tend to become inflated (this is an instance of curse of dimensionality).\n",
    "\n",
    "• Running a dimensionality reduction algorithm such as PCA prior to k-means clustering can alleviate this problem and speed up the computations.\n",
    "\n",
    "• We can calculate model inertia as follows:-"
   ],
   "metadata": {
    "collapsed": false,
    "pycharm": {
     "name": "#%% md\n"
    }
   }
  },
  {
   "cell_type": "code",
   "execution_count": 91,
   "outputs": [
    {
     "data": {
      "text/plain": "1103.8483667408698"
     },
     "execution_count": 91,
     "metadata": {},
     "output_type": "execute_result"
    }
   ],
   "source": [
    "kmeans.inertia_"
   ],
   "metadata": {
    "collapsed": false,
    "pycharm": {
     "name": "#%%\n"
    }
   }
  },
  {
   "cell_type": "markdown",
   "source": [
    "• The lesser the model inertia, the better the model fit.\n",
    "\n",
    "Our model has very high inertia of 572.8\n",
    "So, this is not a good model fit to the data\n"
   ],
   "metadata": {
    "collapsed": false,
    "pycharm": {
     "name": "#%% md\n"
    }
   }
  },
  {
   "cell_type": "markdown",
   "source": [
    "#### Check quality of weak classification by the model"
   ],
   "metadata": {
    "collapsed": false,
    "pycharm": {
     "name": "#%% md\n"
    }
   }
  },
  {
   "cell_type": "code",
   "execution_count": 92,
   "outputs": [
    {
     "name": "stdout",
     "output_type": "stream",
     "text": [
      "Result: 95 out of 27769 samples were correctly labeled.\n"
     ]
    }
   ],
   "source": [
    "labels = kmeans.labels_\n",
    "\n",
    "# check how many of the samples were correctly labeled\n",
    "correct_labels = sum(y == labels)\n",
    "\n",
    "print(\"Result: %d out of %d samples were correctly labeled.\" % (correct_labels, y.size))"
   ],
   "metadata": {
    "collapsed": false,
    "pycharm": {
     "name": "#%%\n"
    }
   }
  },
  {
   "cell_type": "code",
   "execution_count": 93,
   "outputs": [
    {
     "name": "stdout",
     "output_type": "stream",
     "text": [
      "Accuracy score: 0.0034\n"
     ]
    }
   ],
   "source": [
    "print('Accuracy score: {0:0.4f}'. format(correct_labels/float(y.size)))"
   ],
   "metadata": {
    "collapsed": false,
    "pycharm": {
     "name": "#%%\n"
    }
   }
  },
  {
   "cell_type": "markdown",
   "source": [
    "We have achieved a weak classification accuracy of 0,3 % by our unsupervised model."
   ],
   "metadata": {
    "collapsed": false,
    "pycharm": {
     "name": "#%% md\n"
    }
   }
  },
  {
   "cell_type": "markdown",
   "source": [
    "#### The Elbow Method"
   ],
   "metadata": {
    "collapsed": false,
    "pycharm": {
     "name": "#%% md\n"
    }
   }
  },
  {
   "cell_type": "markdown",
   "source": [
    "The elbow method is used to determine the optimal number of clusters in K-means clustering. The elbow method plots the value of the cost function produced by different values of K."
   ],
   "metadata": {
    "collapsed": false,
    "pycharm": {
     "name": "#%% md\n"
    }
   }
  },
  {
   "cell_type": "code",
   "execution_count": 94,
   "outputs": [
    {
     "data": {
      "text/plain": "<Figure size 432x288 with 1 Axes>",
      "image/png": "[encoded data removed]"
     },
     "metadata": {
      "needs_background": "light"
     },
     "output_type": "display_data"
    }
   ],
   "source": [
    "from sklearn.cluster import KMeans\n",
    "cs = []\n",
    "for i in range(1, 11):\n",
    "    kmeans = KMeans(n_clusters = i, init = 'k-means++', max_iter = 300, n_init = 10, random_state = 0)\n",
    "    kmeans.fit(X)\n",
    "    cs.append(kmeans.inertia_)\n",
    "plt.plot(range(1, 11), cs)\n",
    "plt.title('The Elbow Method')\n",
    "plt.xlabel('Number of clusters')\n",
    "plt.ylabel('CS')\n",
    "plt.show()"
   ],
   "metadata": {
    "collapsed": false,
    "pycharm": {
     "name": "#%%\n"
    }
   }
  },
  {
   "cell_type": "markdown",
   "source": [
    "•  By the above plot, we can see that there is a kink at k=2 and k=5.\n",
    "\n",
    "•  Hence k=2 can be considered a good number of the cluster to cluster this data.\n",
    "\n",
    "•  But, we have seen that I have achieved a weak classification accuracy of 1% with k=2.\n",
    "\n",
    "We achieved a weak classification accuracy of 0,3% with k=2 by our unsupervised model. So, we changed the value of k in order to find a higher classification accuracy."
   ],
   "metadata": {
    "collapsed": false,
    "pycharm": {
     "name": "#%% md\n"
    }
   }
  },
  {
   "cell_type": "code",
   "execution_count": 95,
   "outputs": [
    {
     "name": "stdout",
     "output_type": "stream",
     "text": [
      "Result: 95 out of 27769 samples were correctly labeled.\n",
      "Accuracy score: 0.0034\n"
     ]
    }
   ],
   "source": [
    "# mudei o valor de k para 2 e na linha baixo para k=5, porque é onde nos dão os picos. No site fizeram assim, vamos experimentar se está bem\n",
    "kmeans = KMeans(n_clusters=2, random_state=0)\n",
    "\n",
    "kmeans.fit(X)\n",
    "\n",
    "# check how many of the samples were correctly labeled\n",
    "labels = kmeans.labels_\n",
    "\n",
    "correct_labels = sum(y == labels)\n",
    "print(\"Result: %d out of %d samples were correctly labeled.\" % (correct_labels, y.size))\n",
    "print('Accuracy score: {0:0.4f}'. format(correct_labels/float(y.size)))"
   ],
   "metadata": {
    "collapsed": false,
    "pycharm": {
     "name": "#%%\n"
    }
   }
  },
  {
   "cell_type": "code",
   "execution_count": 96,
   "outputs": [
    {
     "name": "stdout",
     "output_type": "stream",
     "text": [
      "Result: 5 out of 27769 samples were correctly labeled.\n",
      "Accuracy score: 0.0002\n"
     ]
    }
   ],
   "source": [
    "kmeans = KMeans(n_clusters=5, random_state=0)\n",
    "\n",
    "kmeans.fit(X)\n",
    "\n",
    "# check how many of the samples were correctly labeled\n",
    "labels = kmeans.labels_\n",
    "\n",
    "correct_labels = sum(y == labels)\n",
    "print(\"Result: %d out of %d samples were correctly labeled.\" % (correct_labels, y.size))\n",
    "print('Accuracy score: {0:0.4f}'. format(correct_labels/float(y.size)))"
   ],
   "metadata": {
    "collapsed": false,
    "pycharm": {
     "name": "#%%\n"
    }
   }
  },
  {
   "cell_type": "markdown",
   "source": [
    "By changing the value of K, we achieved a higher classification accuracy of    with k=   . We conclude that k= is the optimal number of clusters."
   ],
   "metadata": {
    "collapsed": false,
    "pycharm": {
     "name": "#%% md\n"
    }
   }
  },
  {
   "cell_type": "markdown",
   "source": [
    "## Hierarchical Clustering: Agglomerative Clustering Algorithm"
   ],
   "metadata": {
    "collapsed": false,
    "pycharm": {
     "name": "#%% md\n"
    }
   },
   "execution_count": 1
  },
  {
   "cell_type": "markdown",
   "source": [
    "Hierarchical clustering, also known as hierarchical cluster analysis, is an algorithm that groups similar objects into groups called clusters. The endpoint is a set of clusters, where each cluster is distinct from each other cluster, and the objects within each cluster are broadly similar to each other."
   ],
   "metadata": {
    "collapsed": false,
    "pycharm": {
     "name": "#%% md\n"
    }
   }
  },
  {
   "cell_type": "markdown",
   "source": [
    "#### Agglomerative Clustering\n",
    "This is a \"bottom-up\" approach: each observation starts in its own cluster, and pairs of clusters are merged as one moves up the hierarchy"
   ],
   "metadata": {
    "collapsed": false,
    "pycharm": {
     "name": "#%% md\n"
    }
   }
  },
  {
   "cell_type": "code",
   "execution_count": 97,
   "outputs": [
    {
     "data": {
      "text/plain": "array([3, 3, 3, ..., 3, 3, 3], dtype=int64)"
     },
     "execution_count": 97,
     "metadata": {},
     "output_type": "execute_result"
    }
   ],
   "source": [
    "hc = AgglomerativeClustering(n_clusters = 5, affinity = 'euclidean', linkage ='average')\n",
    "\n",
    "y_hc = hc.fit_predict(df)\n",
    "y_hc"
   ],
   "metadata": {
    "collapsed": false,
    "pycharm": {
     "name": "#%%\n"
    }
   }
  },
  {
   "cell_type": "code",
   "execution_count": 131,
   "outputs": [
    {
     "ename": "AttributeError",
     "evalue": "module 'pygments.lexers.go' has no attribute 'Scatter3d'",
     "output_type": "error",
     "traceback": [
      "\u001B[1;31m---------------------------------------------------------------------------\u001B[0m",
      "\u001B[1;31mAttributeError\u001B[0m                            Traceback (most recent call last)",
      "Input \u001B[1;32mIn [131]\u001B[0m, in \u001B[0;36m<cell line: 2>\u001B[1;34m()\u001B[0m\n\u001B[0;32m      1\u001B[0m df[\u001B[38;5;124m'\u001B[39m\u001B[38;5;124mcluster\u001B[39m\u001B[38;5;124m'\u001B[39m] \u001B[38;5;241m=\u001B[39m pd\u001B[38;5;241m.\u001B[39mDataFrame(y_hc)\n\u001B[1;32m----> 2\u001B[0m trace1 \u001B[38;5;241m=\u001B[39m \u001B[43mgo\u001B[49m\u001B[38;5;241;43m.\u001B[39;49m\u001B[43mScatter3d\u001B[49m(\n\u001B[0;32m      3\u001B[0m     x\u001B[38;5;241m=\u001B[39m df[\u001B[38;5;124m'\u001B[39m\u001B[38;5;124mAge\u001B[39m\u001B[38;5;124m'\u001B[39m],\n\u001B[0;32m      4\u001B[0m     y\u001B[38;5;241m=\u001B[39m df[\u001B[38;5;124m'\u001B[39m\u001B[38;5;124mSpending Score (1-100)\u001B[39m\u001B[38;5;124m'\u001B[39m],\n\u001B[0;32m      5\u001B[0m     z\u001B[38;5;241m=\u001B[39m df[\u001B[38;5;124m'\u001B[39m\u001B[38;5;124mAnnual Income (k$)\u001B[39m\u001B[38;5;124m'\u001B[39m],\n\u001B[0;32m      6\u001B[0m     mode\u001B[38;5;241m=\u001B[39m\u001B[38;5;124m'\u001B[39m\u001B[38;5;124mmarkers\u001B[39m\u001B[38;5;124m'\u001B[39m,\n\u001B[0;32m      7\u001B[0m      marker\u001B[38;5;241m=\u001B[39m\u001B[38;5;28mdict\u001B[39m(\n\u001B[0;32m      8\u001B[0m         color \u001B[38;5;241m=\u001B[39m df[\u001B[38;5;124m'\u001B[39m\u001B[38;5;124mcluster\u001B[39m\u001B[38;5;124m'\u001B[39m],\n\u001B[0;32m      9\u001B[0m         size\u001B[38;5;241m=\u001B[39m \u001B[38;5;241m10\u001B[39m,\n\u001B[0;32m     10\u001B[0m         line\u001B[38;5;241m=\u001B[39m\u001B[38;5;28mdict\u001B[39m(\n\u001B[0;32m     11\u001B[0m             color\u001B[38;5;241m=\u001B[39m df[\u001B[38;5;124m'\u001B[39m\u001B[38;5;124mcluster\u001B[39m\u001B[38;5;124m'\u001B[39m],\n\u001B[0;32m     12\u001B[0m             width\u001B[38;5;241m=\u001B[39m \u001B[38;5;241m12\u001B[39m\n\u001B[0;32m     13\u001B[0m         ),\n\u001B[0;32m     14\u001B[0m         opacity\u001B[38;5;241m=\u001B[39m\u001B[38;5;241m0.8\u001B[39m\n\u001B[0;32m     15\u001B[0m      )\n\u001B[0;32m     16\u001B[0m )\n\u001B[0;32m     17\u001B[0m data \u001B[38;5;241m=\u001B[39m [trace1]\n\u001B[0;32m     18\u001B[0m layout \u001B[38;5;241m=\u001B[39m go\u001B[38;5;241m.\u001B[39mLayout(\n\u001B[0;32m     19\u001B[0m     title\u001B[38;5;241m=\u001B[39m \u001B[38;5;124m'\u001B[39m\u001B[38;5;124mClusters using Agglomerative Clustering\u001B[39m\u001B[38;5;124m'\u001B[39m,\n\u001B[0;32m     20\u001B[0m     scene \u001B[38;5;241m=\u001B[39m \u001B[38;5;28mdict\u001B[39m(\n\u001B[1;32m   (...)\u001B[0m\n\u001B[0;32m     24\u001B[0m         )\n\u001B[0;32m     25\u001B[0m )\n",
      "\u001B[1;31mAttributeError\u001B[0m: module 'pygments.lexers.go' has no attribute 'Scatter3d'"
     ]
    }
   ],
   "source": [
    "df['cluster'] = pd.DataFrame(y_hc)\n",
    "trace1 = go.Scatter3d(\n",
    "    x= df['Age'],\n",
    "    y= df['Spending Score (1-100)'],\n",
    "    z= df['Annual Income (k$)'],\n",
    "    mode='markers',\n",
    "     marker=dict(\n",
    "        color = df['cluster'],\n",
    "        size= 10,\n",
    "        line=dict(\n",
    "            color= df['cluster'],\n",
    "            width= 12\n",
    "        ),\n",
    "        opacity=0.8\n",
    "     )\n",
    ")\n",
    "data = [trace1]\n",
    "layout = go.Layout(\n",
    "    title= 'Clusters using Agglomerative Clustering',\n",
    "    scene = dict(\n",
    "            xaxis = dict(title  = 'Age'),\n",
    "            yaxis = dict(title  = 'Spending Score'),\n",
    "            zaxis = dict(title  = 'Annual Income')\n",
    "        )\n",
    ")\n",
    "fig = go.Figure(data=data, layout=layout)\n",
    "py.offline.iplot(fig)"
   ],
   "metadata": {
    "collapsed": false,
    "pycharm": {
     "name": "#%%\n"
    }
   }
  },
  {
   "cell_type": "code",
   "execution_count": null,
   "outputs": [],
   "source": [
    "X = df.iloc[:, [3,4]].values\n",
    "plt.scatter(X[y_hc==0, 0], X[y_hc==0, 1], s=100, c='red', label ='Cluster 1')\n",
    "plt.scatter(X[y_hc==1, 0], X[y_hc==1, 1], s=100, c='blue', label ='Cluster 2')\n",
    "plt.scatter(X[y_hc==2, 0], X[y_hc==2, 1], s=100, c='green', label ='Cluster 3')\n",
    "plt.scatter(X[y_hc==3, 0], X[y_hc==3, 1], s=100, c='purple', label ='Cluster 4')\n",
    "plt.scatter(X[y_hc==4, 0], X[y_hc==4, 1], s=100, c='orange', label ='Cluster 5')\n",
    "plt.title('Clusters of Customers (Hierarchical Clustering Model)')\n",
    "plt.xlabel('Annual Income(k$)')\n",
    "plt.ylabel('Spending Score(1-100)')\n",
    "plt.show()"
   ],
   "metadata": {
    "collapsed": false,
    "pycharm": {
     "name": "#%%\n"
    }
   }
  },
  {
   "cell_type": "code",
   "execution_count": null,
   "outputs": [],
   "source": [
    "df.head()"
   ],
   "metadata": {
    "collapsed": false,
    "pycharm": {
     "name": "#%%\n"
    }
   }
  },
  {
   "cell_type": "code",
   "execution_count": null,
   "outputs": [],
   "source": [
    "df.to_csv(\"segmented_customers.csv\", index = False)"
   ],
   "metadata": {
    "collapsed": false,
    "pycharm": {
     "name": "#%%\n"
    }
   }
  },
  {
   "cell_type": "markdown",
   "source": [
    "## Aprendizagem máquina\n",
    "• Comparar o comportamento de diversos modelos/ algoritmos de Aprendizagem Máquina no conjunto de dados. Deverá analisar o comportamento dos algoritmos calculando métricas de erro apropriadas e usando métodos de estimação do erro adequado. Deverá ainda apresentar o melhor modelo a que consiga chegar para os dados disponíveis, usando todos os exemplos, interpretando-o quando tal for possível."
   ],
   "metadata": {
    "collapsed": false,
    "pycharm": {
     "name": "#%% md\n"
    }
   }
  },
  {
   "cell_type": "code",
   "execution_count": null,
   "outputs": [],
   "source": [
    "X = df_train.drop(columns = ['tm','protein_sequence','data_source'])\n",
    "y = df_train['tm']"
   ],
   "metadata": {
    "collapsed": false,
    "pycharm": {
     "name": "#%%\n"
    }
   }
  },
  {
   "cell_type": "code",
   "execution_count": null,
   "outputs": [],
   "source": [
    "from sklearn.model_selection import train_test_split\n",
    "\n",
    "X_train, X_test, y_train, y_test = train_test_split(X, y, test_size = .2, random_state = 11)"
   ],
   "metadata": {
    "collapsed": false,
    "pycharm": {
     "name": "#%%\n"
    }
   }
  },
  {
   "cell_type": "code",
   "execution_count": null,
   "outputs": [],
   "source": [
    "# parameters tuned separately\n",
    "model1 = xgb.XGBRegressor(n_estimators = 170, max_depth = 5)\n",
    "model1.fit(X_train, y_train)\n",
    "predictions1 = model1.predict(X_test)"
   ],
   "metadata": {
    "collapsed": false,
    "pycharm": {
     "name": "#%%\n"
    }
   }
  },
  {
   "cell_type": "code",
   "execution_count": null,
   "outputs": [],
   "source": [
    "mse=mean_absolute_error(y_test, predictions1)\n",
    "print('Mean Absolute Error = %.2f' %mse)"
   ],
   "metadata": {
    "collapsed": false,
    "pycharm": {
     "name": "#%%\n"
    }
   }
  },
  {
   "cell_type": "code",
   "execution_count": null,
   "outputs": [],
   "source": [
    "score = model1.score(X_train, y_train)\n",
    "print(\"Training score: \", score)"
   ],
   "metadata": {
    "collapsed": false,
    "pycharm": {
     "name": "#%%\n"
    }
   }
  },
  {
   "cell_type": "code",
   "execution_count": null,
   "outputs": [],
   "source": [
    "x_ax = range(len(y_test))\n",
    "plt.plot(x_ax, y_test, label=\"original\")\n",
    "plt.plot(x_ax, predictions1, label=\"predicted\")\n",
    "plt.title(\"Boston test and predicted data\")\n",
    "plt.legend()\n",
    "plt.show()"
   ],
   "metadata": {
    "collapsed": false,
    "pycharm": {
     "name": "#%%\n"
    }
   }
  },
  {
   "cell_type": "code",
   "execution_count": null,
   "outputs": [],
   "source": [
    "from sklearn.model_selection import cross_val_score\n",
    "\n",
    "from sklearn.neighbors import KNeighborsRegressor\n",
    "\n",
    "knn_model = KNeighborsRegressor()\n",
    "pecc_knn = cross_val_score(knn_model, X_train, y_train, cv = 5).mean()\n",
    "pecc_knn"
   ],
   "metadata": {
    "collapsed": false,
    "pycharm": {
     "name": "#%%\n"
    }
   }
  },
  {
   "cell_type": "code",
   "execution_count": null,
   "outputs": [],
   "source": [
    "model_KNR = KNeighborsRegressor()\n",
    "model_KNR.fit(X_train, y_train)\n",
    "predictions1 = model_KNR.predict(X_test)\n",
    "mse=mean_absolute_error(y_test, predictions1)\n",
    "print('Mean Absolute Error = %.2f' %mse)"
   ],
   "metadata": {
    "collapsed": false,
    "pycharm": {
     "name": "#%%\n"
    }
   }
  },
  {
   "cell_type": "code",
   "execution_count": null,
   "outputs": [],
   "source": [
    "from sklearn import svm\n",
    "\n",
    "model_svm = svm_model = svm.SVR()\n",
    "model_svm.fit(X_train, y_train)\n",
    "predictions1 = model_svm.predict(X_test)\n",
    "mse=mean_absolute_error(y_test, predictions1)\n",
    "print('Mean Absolute Error = %.2f' %mse)"
   ],
   "metadata": {
    "collapsed": false,
    "pycharm": {
     "name": "#%%\n"
    }
   }
  },
  {
   "cell_type": "code",
   "execution_count": null,
   "outputs": [],
   "source": [
    "from sklearn.ensemble import RandomForestRegressor\n",
    "\n",
    "model_rfr = RandomForestRegressor()\n",
    "model_rfr.fit(X_train, y_train)\n",
    "predictions1 = model_rfr.predict(X_test)\n",
    "mse=mean_absolute_error(y_test, predictions1)\n",
    "print('Mean Absolute Error = %.2f' %mse)"
   ],
   "metadata": {
    "collapsed": false,
    "pycharm": {
     "name": "#%%\n"
    }
   }
  },
  {
   "cell_type": "code",
   "execution_count": null,
   "outputs": [],
   "source": [
    "from sklearn.ensemble import AdaBoostRegressor\n",
    "model_AB = AdaBoostRegressor()\n",
    "model_AB.fit(X_train, y_train)\n",
    "predictions1 = model_AB.predict(X_test)\n",
    "mse=mean_absolute_error(y_test, predictions1)\n",
    "print('Mean Absolute Error = %.2f' %mse)"
   ],
   "metadata": {
    "collapsed": false,
    "pycharm": {
     "name": "#%%\n"
    }
   }
  },
  {
   "cell_type": "code",
   "execution_count": null,
   "outputs": [],
   "source": [
    "score = model_rfr.score(X_train, y_train)\n",
    "print(\"Training score: \", score)"
   ],
   "metadata": {
    "collapsed": false,
    "pycharm": {
     "name": "#%%\n"
    }
   }
  },
  {
   "cell_type": "code",
   "execution_count": null,
   "outputs": [],
   "source": [
    "from sklearn.linear_model import LinearRegression\n",
    "model_LR = LinearRegression()\n",
    "model_LR.fit(X_train, y_train)\n",
    "predictions_LR = model_LR.predict(X_test)\n",
    "mse=mean_absolute_error(y_test, predictions_LR)\n",
    "print('Mean Absolute Error = %.2f' %mse)"
   ],
   "metadata": {
    "collapsed": false,
    "pycharm": {
     "name": "#%%\n"
    }
   }
  },
  {
   "cell_type": "code",
   "execution_count": null,
   "outputs": [],
   "source": [
    "score = model_LR.score(X_train, y_train)\n",
    "print(\"Training score: \", score)"
   ],
   "metadata": {
    "collapsed": false,
    "pycharm": {
     "name": "#%%\n"
    }
   }
  }
 ],
 "metadata": {
  "kernelspec": {
   "display_name": "Python 3",
   "language": "python",
   "name": "python3"
  },
  "language_info": {
   "codemirror_mode": {
    "name": "ipython",
    "version": 2
   },
   "file_extension": ".py",
   "mimetype": "text/x-python",
   "name": "python",
   "nbconvert_exporter": "python",
   "pygments_lexer": "ipython2",
   "version": "2.7.6"
  }
 },
 "nbformat": 4,
 "nbformat_minor": 0
}